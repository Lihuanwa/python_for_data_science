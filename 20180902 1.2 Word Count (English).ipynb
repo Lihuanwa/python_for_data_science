{
 "cells": [
  {
   "cell_type": "markdown",
   "metadata": {},
   "source": [
    "## Word Count(English)"
   ]
  },
  {
   "cell_type": "code",
   "execution_count": 3,
   "metadata": {},
   "outputs": [],
   "source": [
    "speech_text='''\n",
    "Trump plans post-midterms foreign travel, but leaves Asia for Pence\n",
    "Kevin Liptak-Profile-Image\n",
    "By Kevin Liptak, CNN\n",
    "\n",
    "Updated 2139 GMT (0539 HKT) August 31, 2018\n",
    "\n",
    "Washington (CNN)President Donald Trump will head overseas after November's midterm elections, the White House said on Friday, making stops in Europe and South America even as he forgoes yearly summits in Asia usually attended by the US leader.\n",
    "\n",
    "The trips could provide an escape for Trump should Democrats post wins in the congressional contests. Past presidents have used foreign travel to shift the spotlight after bruising midterm losses, including President Barack Obama, who traveled to Asia immediately after disastrous losses for Democrats in 2010, and George W. Bush, who made a round-the-world journey in 2006 after Republicans lost control of the House and Senate.\n",
    "In a statement, White House press secretary Sarah Sanders said Trump would attend centenary events in Paris on Nov. 11, the 100th anniversary of the armistice that ended World War I. He will also make a stop in Ireland.\n",
    "Sponsor content by WeSpeke\n",
    "Learning English opens new doors for billions around the world\n",
    "David Crystal, the British linguist and academic, has calculated that there are three times more people learning English than there are native speakers of the language. Why?\n",
    "Trump cancels pay raises for federal employees\n",
    "Trump cancels pay raises for federal employees\n",
    "Later that month, Trump will attend the G20 meetings in the Argentine capital, Buenos Aires, and make a stop in Colombia. Trump was originally meant to visit Colombia in April but scrapped the trip to remain in Washington and oversee military strikes in Syria.\n",
    "Instead of traveling to Asia, however, Trump will dispatch Vice President Mike Pence to sit in at the Association of Southeast Asian Nations Summit and the East Asia Summit, in Singapore, and the Asia Pacific Economic Cooperation forum, in Papua New Guinea.\n",
    "Trump attended those meetings last year, and Obama and Bush attended during most years of their presidencies. The last time a US president didn't attend was 2013, when Obama canceled a planned trip amid a government shutdown.\n",
    "Sanders said Pence \"looks forward to meeting with our allies and partners from across the region to advance security, prosperity, and freedom for all.\"\n",
    "Trump has conducted contentious meetings on foreign soil in the past year, including G7 talks in Canada that ended with him reneging on a final agreement after he departed the summit. He also attended a NATO summit in July that was marked by his angry insistence that other countries aren't spending enough on their militaries.\n",
    "In Argentina, he will likely come face-to-face with several of the same leaders, including German Chancellor Angela Merkel, French President Emmanuel Macron and Canadian Prime Minister Justin Trudeau. Chinese President Xi Jinping is also expected to attend.\n",
    "Trump will also have the chance to engage again with Russian President Vladimir Putin at the G20. He has said he's open to a second meeting with Putin after a heavily criticized summit in Helsinki, Finland, in July.\n",
    "'''"
   ]
  },
  {
   "cell_type": "code",
   "execution_count": 30,
   "metadata": {},
   "outputs": [],
   "source": [
    "speech=speech_text.lower().split()"
   ]
  },
  {
   "cell_type": "code",
   "execution_count": 8,
   "metadata": {},
   "outputs": [
    {
     "data": {
      "text/plain": [
       "list"
      ]
     },
     "execution_count": 8,
     "metadata": {},
     "output_type": "execute_result"
    }
   ],
   "source": [
    "type(speech)"
   ]
  },
  {
   "cell_type": "markdown",
   "metadata": {},
   "source": [
    "## Word Count(Version 1)"
   ]
  },
  {
   "cell_type": "code",
   "execution_count": 31,
   "metadata": {},
   "outputs": [],
   "source": [
    "dic ={}\n",
    "for word in speech:\n",
    "    if word not in dic:\n",
    "        dic[word]=1\n",
    "    else:\n",
    "        dic[word]=dic[word]+1"
   ]
  },
  {
   "cell_type": "code",
   "execution_count": 32,
   "metadata": {},
   "outputs": [],
   "source": [
    "dic1 ={}\n",
    "li =[1,2,3,4,5,6,3,4,5,6,2,4,1,3]\n",
    "for li1 in li:\n",
    "    if li1 not in dic1:\n",
    "        dic1[li1] =1\n",
    "    else:\n",
    "        dic1[li1]=dic1[li1]+1"
   ]
  },
  {
   "cell_type": "code",
   "execution_count": 24,
   "metadata": {},
   "outputs": [
    {
     "data": {
      "text/plain": [
       "{1: 2, 2: 2, 3: 3, 4: 3, 5: 2, 6: 2}"
      ]
     },
     "execution_count": 24,
     "metadata": {},
     "output_type": "execute_result"
    }
   ],
   "source": [
    "dic1\n",
    "#type(li)"
   ]
  },
  {
   "cell_type": "code",
   "execution_count": 26,
   "metadata": {},
   "outputs": [],
   "source": [
    "?sorted"
   ]
  },
  {
   "cell_type": "code",
   "execution_count": 33,
   "metadata": {},
   "outputs": [],
   "source": [
    "import operator\n",
    "swd=sorted(dic.items(),key=operator.itemgetter(1),reverse=True)"
   ]
  },
  {
   "cell_type": "code",
   "execution_count": 42,
   "metadata": {},
   "outputs": [
    {
     "name": "stdout",
     "output_type": "stream",
     "text": [
      "[nltk_data] Downloading package stopwords to\n",
      "[nltk_data]     C:\\Users\\lihuanwa\\AppData\\Roaming\\nltk_data...\n",
      "[nltk_data]   Unzipping corpora\\stopwords.zip.\n"
     ]
    }
   ],
   "source": [
    "#nltk\n",
    "import nltk\n",
    "nltk.download('stopwords')\n",
    "    \n",
    "from nltk.corpus import stopwords\n",
    "stop_words=stopwords.words('English')"
   ]
  },
  {
   "cell_type": "code",
   "execution_count": 44,
   "metadata": {},
   "outputs": [
    {
     "name": "stdout",
     "output_type": "stream",
     "text": [
      "trump 12\n",
      "president 6\n",
      "asia 5\n",
      "said 4\n",
      "attended 4\n",
      "also 4\n",
      "foreign 3\n",
      "pence 3\n",
      "house 3\n",
      "including 3\n",
      "attend 3\n",
      "meetings 3\n",
      "summit 3\n",
      "kevin 2\n",
      "washington 2\n",
      "midterm 2\n",
      "white 2\n",
      "us 2\n",
      "democrats 2\n",
      "past 2\n",
      "sanders 2\n",
      "ended 2\n",
      "world 2\n",
      "make 2\n",
      "stop 2\n",
      "learning 2\n",
      "english 2\n",
      "new 2\n",
      "cancels 2\n",
      "pay 2\n",
      "raises 2\n",
      "federal 2\n",
      "employees 2\n",
      "trip 2\n",
      "last 2\n",
      "year, 2\n",
      "obama 2\n",
      "meeting 2\n",
      "putin 2\n",
      "plans 1\n",
      "post-midterms 1\n",
      "travel, 1\n",
      "leaves 1\n",
      "liptak-profile-image 1\n",
      "liptak, 1\n",
      "cnn 1\n",
      "updated 1\n",
      "2139 1\n",
      "gmt 1\n",
      "(0539 1\n",
      "hkt) 1\n",
      "august 1\n",
      "31, 1\n",
      "2018 1\n",
      "(cnn)president 1\n",
      "donald 1\n",
      "head 1\n",
      "overseas 1\n",
      "november's 1\n",
      "elections, 1\n",
      "friday, 1\n",
      "making 1\n",
      "stops 1\n",
      "europe 1\n",
      "south 1\n",
      "america 1\n",
      "even 1\n",
      "forgoes 1\n",
      "yearly 1\n",
      "summits 1\n",
      "usually 1\n",
      "leader. 1\n",
      "trips 1\n",
      "could 1\n",
      "provide 1\n",
      "escape 1\n",
      "post 1\n",
      "wins 1\n",
      "congressional 1\n",
      "contests. 1\n",
      "presidents 1\n",
      "used 1\n",
      "travel 1\n",
      "shift 1\n",
      "spotlight 1\n",
      "bruising 1\n",
      "losses, 1\n",
      "barack 1\n",
      "obama, 1\n",
      "traveled 1\n",
      "immediately 1\n",
      "disastrous 1\n",
      "losses 1\n",
      "2010, 1\n",
      "george 1\n",
      "w. 1\n",
      "bush, 1\n",
      "made 1\n",
      "round-the-world 1\n",
      "journey 1\n",
      "2006 1\n",
      "republicans 1\n",
      "lost 1\n",
      "control 1\n",
      "senate. 1\n",
      "statement, 1\n",
      "press 1\n",
      "secretary 1\n",
      "sarah 1\n",
      "would 1\n",
      "centenary 1\n",
      "events 1\n",
      "paris 1\n",
      "nov. 1\n",
      "11, 1\n",
      "100th 1\n",
      "anniversary 1\n",
      "armistice 1\n",
      "war 1\n",
      "i. 1\n",
      "ireland. 1\n",
      "sponsor 1\n",
      "content 1\n",
      "wespeke 1\n",
      "opens 1\n",
      "doors 1\n",
      "billions 1\n",
      "around 1\n",
      "david 1\n",
      "crystal, 1\n",
      "british 1\n",
      "linguist 1\n",
      "academic, 1\n",
      "calculated 1\n",
      "three 1\n",
      "times 1\n",
      "people 1\n",
      "native 1\n",
      "speakers 1\n",
      "language. 1\n",
      "why? 1\n",
      "later 1\n",
      "month, 1\n",
      "g20 1\n",
      "argentine 1\n",
      "capital, 1\n",
      "buenos 1\n",
      "aires, 1\n",
      "colombia. 1\n",
      "originally 1\n",
      "meant 1\n",
      "visit 1\n",
      "colombia 1\n",
      "april 1\n",
      "scrapped 1\n",
      "remain 1\n",
      "oversee 1\n",
      "military 1\n",
      "strikes 1\n",
      "syria. 1\n",
      "instead 1\n",
      "traveling 1\n",
      "asia, 1\n",
      "however, 1\n",
      "dispatch 1\n",
      "vice 1\n",
      "mike 1\n",
      "sit 1\n",
      "association 1\n",
      "southeast 1\n",
      "asian 1\n",
      "nations 1\n",
      "east 1\n",
      "summit, 1\n",
      "singapore, 1\n",
      "pacific 1\n",
      "economic 1\n",
      "cooperation 1\n",
      "forum, 1\n",
      "papua 1\n",
      "guinea. 1\n",
      "bush 1\n",
      "years 1\n",
      "presidencies. 1\n",
      "time 1\n",
      "2013, 1\n",
      "canceled 1\n",
      "planned 1\n",
      "amid 1\n",
      "government 1\n",
      "shutdown. 1\n",
      "\"looks 1\n",
      "forward 1\n",
      "allies 1\n",
      "partners 1\n",
      "across 1\n",
      "region 1\n",
      "advance 1\n",
      "security, 1\n",
      "prosperity, 1\n",
      "freedom 1\n",
      "all.\" 1\n",
      "conducted 1\n",
      "contentious 1\n",
      "soil 1\n",
      "g7 1\n",
      "talks 1\n",
      "canada 1\n",
      "reneging 1\n",
      "final 1\n",
      "agreement 1\n",
      "departed 1\n",
      "summit. 1\n",
      "nato 1\n",
      "july 1\n",
      "marked 1\n",
      "angry 1\n",
      "insistence 1\n",
      "countries 1\n",
      "spending 1\n",
      "enough 1\n",
      "militaries. 1\n",
      "argentina, 1\n",
      "likely 1\n",
      "come 1\n",
      "face-to-face 1\n",
      "several 1\n",
      "leaders, 1\n",
      "german 1\n",
      "chancellor 1\n",
      "angela 1\n",
      "merkel, 1\n",
      "french 1\n",
      "emmanuel 1\n",
      "macron 1\n",
      "canadian 1\n",
      "prime 1\n",
      "minister 1\n",
      "justin 1\n",
      "trudeau. 1\n",
      "chinese 1\n",
      "xi 1\n",
      "jinping 1\n",
      "expected 1\n",
      "attend. 1\n",
      "chance 1\n",
      "engage 1\n",
      "russian 1\n",
      "vladimir 1\n",
      "g20. 1\n",
      "he's 1\n",
      "open 1\n",
      "second 1\n",
      "heavily 1\n",
      "criticized 1\n",
      "helsinki, 1\n",
      "finland, 1\n",
      "july. 1\n"
     ]
    }
   ],
   "source": [
    "for k,v in swd:\n",
    "    if k not in stop_words:\n",
    "        print(k,v)\n"
   ]
  },
  {
   "cell_type": "markdown",
   "metadata": {},
   "source": [
    "## Word Count(Version 2）"
   ]
  },
  {
   "cell_type": "code",
   "execution_count": 46,
   "metadata": {},
   "outputs": [],
   "source": [
    "from collections import Counter\n",
    "c = Counter(speech)"
   ]
  },
  {
   "cell_type": "code",
   "execution_count": 49,
   "metadata": {},
   "outputs": [
    {
     "data": {
      "text/plain": [
       "collections.Counter"
      ]
     },
     "execution_count": 49,
     "metadata": {},
     "output_type": "execute_result"
    }
   ],
   "source": [
    "c.most_common(10)\n",
    "type(c)"
   ]
  },
  {
   "cell_type": "code",
   "execution_count": 50,
   "metadata": {},
   "outputs": [],
   "source": [
    "for sw in stop_words:\n",
    "    del c[sw]"
   ]
  },
  {
   "cell_type": "code",
   "execution_count": 51,
   "metadata": {},
   "outputs": [
    {
     "data": {
      "text/plain": [
       "[('trump', 12),\n",
       " ('president', 6),\n",
       " ('asia', 5),\n",
       " ('said', 4),\n",
       " ('attended', 4),\n",
       " ('also', 4),\n",
       " ('foreign', 3),\n",
       " ('pence', 3),\n",
       " ('house', 3),\n",
       " ('including', 3)]"
      ]
     },
     "execution_count": 51,
     "metadata": {},
     "output_type": "execute_result"
    }
   ],
   "source": [
    "c.most_common(10)"
   ]
  },
  {
   "cell_type": "code",
   "execution_count": null,
   "metadata": {},
   "outputs": [],
   "source": []
  }
 ],
 "metadata": {
  "kernelspec": {
   "display_name": "Python 3",
   "language": "python",
   "name": "python3"
  },
  "language_info": {
   "codemirror_mode": {
    "name": "ipython",
    "version": 3
   },
   "file_extension": ".py",
   "mimetype": "text/x-python",
   "name": "python",
   "nbconvert_exporter": "python",
   "pygments_lexer": "ipython3",
   "version": "3.6.4"
  }
 },
 "nbformat": 4,
 "nbformat_minor": 2
}
